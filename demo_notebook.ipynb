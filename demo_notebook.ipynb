{
 "cells": [
  {
   "cell_type": "code",
   "execution_count": 1,
   "metadata": {
    "ExecuteTime": {
     "end_time": "2018-06-12T13:34:03.522789Z",
     "start_time": "2018-06-12T13:34:02.244971Z"
    }
   },
   "outputs": [],
   "source": [
    "from ovnlp.ftweights import weights as ws\n",
    "from ovnlp.ftweights import ftutils as ft\n",
    "from ovnlp.txtutils import cleantext as ct"
   ]
  },
  {
   "cell_type": "markdown",
   "metadata": {},
   "source": [
    "# Import pretrained weights"
   ]
  },
  {
   "cell_type": "code",
   "execution_count": 2,
   "metadata": {
    "ExecuteTime": {
     "end_time": "2018-06-12T13:34:04.611859Z",
     "start_time": "2018-06-12T13:34:04.605573Z"
    }
   },
   "outputs": [
    {
     "name": "stdout",
     "output_type": "stream",
     "text": [
      "----------------------------------------------------------------------------------------------------\n",
      "Pretrained weights are provided by FB for * cc *.\n",
      "Please use another name if you want to create your own model.\n",
      "----------------------------------------------------------------------------------------------------\n",
      "Weights already downloaded and extracted in /Users/fanch/ovnlp/fasttext/weights/cc/fr.\n"
     ]
    }
   ],
   "source": [
    "## Usage - Get pretrained weights\n",
    "# trainedOn parameter : \"cc\" stands for Common crawl, \"wiki\" may also be used, other or None is a custom model\n",
    "# iProjectPath : where to save weights\n",
    "# if iProjectPath=None, then homepath = HOME else homepath = iProjectPath\n",
    "# Weights are saved in homepath+/ovnlp/fasttext/weights/ + iTrainedOn={cc or wiki or custom} + / + iLang={fr or en} + /\n",
    "ws1 = ws.WeightSource(iTrainedOn = \"cc\", iLang = \"fr\", iProjectPath = None)\n",
    "\n",
    "# DL \"fr\" weigths, \"en\" may also be used (big file, long runtime)\n",
    "ws1.save_weights(iResave=False)"
   ]
  },
  {
   "cell_type": "markdown",
   "metadata": {},
   "source": [
    "# Text Utils - Load language specific objects"
   ]
  },
  {
   "cell_type": "code",
   "execution_count": 3,
   "metadata": {
    "ExecuteTime": {
     "end_time": "2018-06-12T13:34:06.586795Z",
     "start_time": "2018-06-12T13:34:06.580596Z"
    }
   },
   "outputs": [],
   "source": [
    "# ovnlp.txtutils contains a cleantext module with a LangTools class to get objects language specific such as : stopwords, tokenizer, stemmer\n",
    "ltfr = ct.LangTools(\"fr\")\n",
    "stopwords = ltfr.get_stop_words(iCustomList = [\"``\",\"a\",\"l'\",\"s'\",\"d'\",\"n'\",\"c'\",\"les\"])\n",
    "stemmer = ltfr.get_stemmer()\n",
    "tokenizer = ltfr.get_tokenizer()\n",
    "\n",
    "# cleantext module also contains several utils functions : tokenize, text_file_to_sentence, etc..."
   ]
  },
  {
   "cell_type": "markdown",
   "metadata": {},
   "source": [
    "# Train a custom model"
   ]
  },
  {
   "cell_type": "code",
   "execution_count": null,
   "metadata": {
    "ExecuteTime": {
     "start_time": "2018-06-12T13:34:08.922Z"
    }
   },
   "outputs": [],
   "source": [
    "# Download sample text data (may take some time)\n",
    "import requests\n",
    "r = requests.get(\"https://raw.github.com/Fanchouille/ovwordvectors/master/TF1ReferentielVideo.txt\")\n",
    "texte = r.text"
   ]
  },
  {
   "cell_type": "code",
   "execution_count": null,
   "metadata": {
    "ExecuteTime": {
     "start_time": "2018-06-12T13:34:10.047Z"
    }
   },
   "outputs": [],
   "source": [
    "# use text utils funcs & stopwords / tokenizer for \"fr\" language\n",
    "# Use custom splitter here : \\n juste to have one unique sentence per video.\n",
    "sentences = ct.string_to_sentences(texte, tokenizer, stopwords, iSplitter=\"\\n\")"
   ]
  },
  {
   "cell_type": "code",
   "execution_count": null,
   "metadata": {
    "ExecuteTime": {
     "start_time": "2018-06-12T13:34:10.520Z"
    }
   },
   "outputs": [],
   "source": [
    "#Print random video data\n",
    "print(sentences[10000])"
   ]
  },
  {
   "cell_type": "code",
   "execution_count": null,
   "metadata": {
    "ExecuteTime": {
     "start_time": "2018-06-12T13:34:11.008Z"
    }
   },
   "outputs": [],
   "source": [
    "# Instantiate WeightSource for custom model\n",
    "ws2 = ws.WeightSource(iTrainedOn = \"TF1RefVideo\", iLang=\"fr\", iProjectPath = None)\n",
    "# Train custom model with 16 shaped embeddings\n",
    "model  = ws.train_weights(sentences[0:100000], iter=1, size=16)\n",
    "# Save model - overwrite\n",
    "ws2.save_weights(iTrainedModel=model, iResave=True)"
   ]
  },
  {
   "cell_type": "markdown",
   "metadata": {},
   "source": [
    "# Load existing model"
   ]
  },
  {
   "cell_type": "code",
   "execution_count": null,
   "metadata": {
    "ExecuteTime": {
     "start_time": "2018-06-12T13:34:13.282Z"
    }
   },
   "outputs": [],
   "source": [
    "ws3 = ws.WeightSource(iTrainedOn = \"TF1RefVideo\", iLang=\"fr\",iProjectPath = None)\n",
    "model = ws3.load_model()"
   ]
  },
  {
   "cell_type": "markdown",
   "metadata": {},
   "source": [
    "# Examples of use with gensim API\n",
    "## see gensim doc for more \n",
    "https://radimrehurek.com/gensim/models/keyedvectors.html#gensim.models.keyedvectors.WordEmbeddingsKeyedVectors"
   ]
  },
  {
   "cell_type": "code",
   "execution_count": null,
   "metadata": {
    "ExecuteTime": {
     "start_time": "2018-06-12T13:34:18.786Z"
    }
   },
   "outputs": [],
   "source": [
    "# Print Raw word vector for a word\n",
    "iWord = \"journal\"\n",
    "print(\"Word vector for word \"+ iWord + \" :\")\n",
    "print(model.wv[iWord])\n",
    "print(\"\")\n",
    "\n",
    "# Doesn't match\n",
    "print(\"Intrus from list : ['stars','danse','chanson','journal'] \")\n",
    "print(model.wv.doesnt_match([\"stars\",\"danse\",\"chanson\",\"journal\"]))\n",
    "print(\" \")\n",
    "\n",
    "# Most similar\n",
    "print(\"Most similar to lanta : \")\n",
    "print(model.wv.most_similar(\"lanta\"))\n",
    "print(\" \")"
   ]
  },
  {
   "cell_type": "markdown",
   "metadata": {},
   "source": [
    "# Examples of use with FT utils"
   ]
  },
  {
   "cell_type": "code",
   "execution_count": null,
   "metadata": {
    "ExecuteTime": {
     "start_time": "2018-06-12T13:34:21.026Z"
    }
   },
   "outputs": [],
   "source": [
    "# Print normed word vector for a word\n",
    "iWord = \"journal\"\n",
    "print(\"Normed word vector for word \"+ iWord + \" :\")\n",
    "print(ft.word_to_vec(iWord, model, iNormed=True))\n",
    "print(\"\")\n",
    "\n",
    "# Use ft utils to get vectors for a word list :\n",
    "iSentence = \"Le journal de 13h\"\n",
    "print(\"Normed word vector for sentence '\"+ iSentence + \"' :\")\n",
    "print(ft.wordlist_to_vec(iSentence.split(\" \"), model, iNormed=True))\n",
    "print(\"\")"
   ]
  }
 ],
 "metadata": {
  "kernelspec": {
   "display_name": "Python [conda env:py36]",
   "language": "python",
   "name": "conda-env-py36-py"
  },
  "language_info": {
   "codemirror_mode": {
    "name": "ipython",
    "version": 3
   },
   "file_extension": ".py",
   "mimetype": "text/x-python",
   "name": "python",
   "nbconvert_exporter": "python",
   "pygments_lexer": "ipython3",
   "version": "3.6.2"
  }
 },
 "nbformat": 4,
 "nbformat_minor": 2
}
