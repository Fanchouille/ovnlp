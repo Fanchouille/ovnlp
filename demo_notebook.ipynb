{
 "cells": [
  {
   "cell_type": "code",
   "execution_count": null,
   "metadata": {
    "ExecuteTime": {
     "end_time": "2018-06-12T13:34:03.522789Z",
     "start_time": "2018-06-12T13:34:02.244971Z"
    }
   },
   "outputs": [],
   "source": [
    "from ovnlp.ft import weights as ws\n",
    "from ovnlp.ft import ftutils as ft\n",
    "from ovnlp.txtutils import cleantext as ct"
   ]
  },
  {
   "cell_type": "markdown",
   "metadata": {},
   "source": [
    "# Import pretrained weights"
   ]
  },
  {
   "cell_type": "code",
   "execution_count": 2,
   "metadata": {
    "ExecuteTime": {
     "end_time": "2018-06-12T13:34:04.611859Z",
     "start_time": "2018-06-12T13:34:04.605573Z"
    }
   },
   "outputs": [
    {
     "name": "stdout",
     "output_type": "stream",
     "text": [
      "----------------------------------------------------------------------------------------------------\n",
      "Pretrained weights are provided by FB for * cc *.\n",
      "Please use another name if you want to create your own model.\n",
      "----------------------------------------------------------------------------------------------------\n",
      "Weights already downloaded and extracted in /Users/fanch/ovnlp/fasttext/weights/cc/fr.\n"
     ]
    }
   ],
   "source": [
    "## Usage - Get pretrained weights\n",
    "# trainedOn parameter : \"cc\" stands for Common crawl, \"other\" or None is a custom model\n",
    "# iProjectPath : where to save weights\n",
    "# if iProjectPath=None, then homepath = HOME else homepath = iProjectPath\n",
    "# Weights are saved in homepath+/ovnlp/fasttext/weights/ + iTrainedOn={cc or custom} + / + iLang={fr or en} + /\n",
    "ws1 = ws.WeightSource(iTrainedOn = \"cc\", iLang = \"fr\", iProjectPath = None)\n",
    "\n",
    "# DL \"fr\" weigths, \"en\" may also be used (big file, long runtime)\n",
    "ws1.save_weights(iResave=False)"
   ]
  },
  {
   "cell_type": "markdown",
   "metadata": {},
   "source": [
    "# Text Utils - Load language specific objects"
   ]
  },
  {
   "cell_type": "code",
   "execution_count": 3,
   "metadata": {
    "ExecuteTime": {
     "end_time": "2018-06-12T13:34:06.586795Z",
     "start_time": "2018-06-12T13:34:06.580596Z"
    }
   },
   "outputs": [],
   "source": [
    "# ovnlp.txtutils contains a cleantext module with a LangTools class to get objects language specific such as : stopwords, tokenizer, stemmer\n",
    "ltfr = ct.LangTools(\"fr\")\n",
    "stopwords = ltfr.get_stop_words(iCustomList = [\"``\",\"a\",\"l'\",\"s'\",\"d'\",\"n'\",\"c'\",\"les\"])\n",
    "stemmer = ltfr.get_stemmer()\n",
    "tokenizer = ltfr.get_tokenizer()\n",
    "\n",
    "# cleantext module also contains several utils functions : tokenize, text_file_to_sentence, etc..."
   ]
  },
  {
   "cell_type": "markdown",
   "metadata": {},
   "source": [
    "# Train a custom model"
   ]
  },
  {
   "cell_type": "code",
   "execution_count": 11,
   "metadata": {
    "ExecuteTime": {
     "end_time": "2018-06-12T13:53:49.767945Z",
     "start_time": "2018-06-12T13:53:20.880472Z"
    }
   },
   "outputs": [],
   "source": [
    "# Download sample text data (may take some time)\n",
    "import requests\n",
    "r = requests.get(\"https://raw.github.com/Fanchouille/ovnlp/master/TF1ReferentielVideo.txt\")\n",
    "texte = r.text"
   ]
  },
  {
   "cell_type": "code",
   "execution_count": 12,
   "metadata": {
    "ExecuteTime": {
     "end_time": "2018-06-12T13:54:19.925601Z",
     "start_time": "2018-06-12T13:54:05.671843Z"
    }
   },
   "outputs": [],
   "source": [
    "# use text utils funcs & stopwords / tokenizer for \"fr\" language\n",
    "# Use custom splitter here : \\n juste to have one unique sentence per video.\n",
    "sentences = ct.string_to_sentences(texte, tokenizer, stopwords, iSplitter=\"\\n\")"
   ]
  },
  {
   "cell_type": "code",
   "execution_count": 13,
   "metadata": {
    "ExecuteTime": {
     "end_time": "2018-06-12T13:54:19.930216Z",
     "start_time": "2018-06-12T13:54:19.927182Z"
    }
   },
   "outputs": [
    {
     "name": "stdout",
     "output_type": "stream",
     "text": [
      "['image', 'novembre', 'inedite', 'devant', 'tombe', 'soldat', 'inconnu', 'mercredi', 'matin', 'nicolas', 'sarkozy', 'accepte', 'invitation', 'successeur', 'francois', 'hollande', 'message', 'limpide', 'republique', 'unie', 'honorer', 'france', 'ceux', 'tombes', 'chef', 'republicains', 'choisi', 'meler', 'hommage', 'soldats', 'morts', 'france', 'commemoration', 'novembre', 'cette', 'reforme', 'ete', 'respectee', 'parenthese', 'concorde', 'nationale', 'climat', 'electoral', 'pre', 'regional', 'tres', 'tendu']\n"
     ]
    }
   ],
   "source": [
    "#Print random video data\n",
    "print(sentences[10000])"
   ]
  },
  {
   "cell_type": "code",
   "execution_count": 7,
   "metadata": {
    "ExecuteTime": {
     "end_time": "2018-06-12T13:35:19.003721Z",
     "start_time": "2018-06-12T13:34:53.895640Z"
    }
   },
   "outputs": [
    {
     "name": "stdout",
     "output_type": "stream",
     "text": [
      "----------------------------------------------------------------------------------------------------\n",
      "Custom model  : TF1RefVideo\n",
      "----------------------------------------------------------------------------------------------------\n",
      "Custom model trained.\n",
      "Custom model saved in /Users/fanch/ovnlp/fasttext/weights/TF1RefVideo/fr/TF1RefVideo.fr.bin\n"
     ]
    }
   ],
   "source": [
    "# Instantiate WeightSource for custom model\n",
    "ws2 = ws.WeightSource(iTrainedOn = \"TF1RefVideo\", iLang=\"fr\", iProjectPath = None)\n",
    "# Train custom model with 16 shaped embeddings\n",
    "model  = ws.train_weights(sentences[0:100000], iter=1, size=16)\n",
    "# Save model - overwrite\n",
    "ws2.save_weights(iTrainedModel=model, iResave=True)"
   ]
  },
  {
   "cell_type": "markdown",
   "metadata": {},
   "source": [
    "# Load existing model"
   ]
  },
  {
   "cell_type": "code",
   "execution_count": 8,
   "metadata": {
    "ExecuteTime": {
     "end_time": "2018-06-12T13:35:19.299108Z",
     "start_time": "2018-06-12T13:35:19.005262Z"
    }
   },
   "outputs": [
    {
     "name": "stdout",
     "output_type": "stream",
     "text": [
      "----------------------------------------------------------------------------------------------------\n",
      "Custom model  : TF1RefVideo\n",
      "----------------------------------------------------------------------------------------------------\n",
      "Loading with FastText.load\n",
      "/Users/fanch/ovnlp/fasttext/weights/TF1RefVideo/fr/TF1RefVideo.fr.bin was loaded.\n"
     ]
    }
   ],
   "source": [
    "ws3 = ws.WeightSource(iTrainedOn = \"TF1RefVideo\", iLang=\"fr\",iProjectPath = None)\n",
    "model = ws3.load_model()"
   ]
  },
  {
   "cell_type": "markdown",
   "metadata": {},
   "source": [
    "# Examples of use with gensim API\n",
    "## see gensim doc for more \n",
    "https://radimrehurek.com/gensim/models/keyedvectors.html#gensim.models.keyedvectors.WordEmbeddingsKeyedVectors"
   ]
  },
  {
   "cell_type": "code",
   "execution_count": 9,
   "metadata": {
    "ExecuteTime": {
     "end_time": "2018-06-12T13:35:19.324316Z",
     "start_time": "2018-06-12T13:35:19.300501Z"
    }
   },
   "outputs": [
    {
     "name": "stdout",
     "output_type": "stream",
     "text": [
      "Word vector for word journal :\n",
      "[ 1.4600602   0.58259946 -1.8712077  -5.684742   -4.6542625   1.4963633\n",
      " -0.35454783  4.9938087   0.16250059 -1.0218911  -3.958596   -1.1504391\n",
      "  0.61556166 -3.1220825   0.36706343 -2.0195127 ]\n",
      "\n",
      "Intrus from list : ['stars','danse','chanson','journal'] \n",
      "journal\n",
      " \n",
      "Most similar to lanta : \n",
      "[('oh', 0.9906699061393738), ('koh', 0.9899019598960876), ('kohl', 0.9882783889770508), ('kohlhepp', 0.9800268411636353), ('atlanta', 0.9690289497375488), ('santa', 0.9666468501091003), ('kopa', 0.965304434299469), ('punta', 0.9527996182441711), ('cambodge', 0.9480065107345581), ('lanka', 0.9355054497718811)]\n",
      " \n"
     ]
    }
   ],
   "source": [
    "# Print Raw word vector for a word\n",
    "iWord = \"journal\"\n",
    "print(\"Word vector for word \"+ iWord + \" :\")\n",
    "print(model.wv[iWord])\n",
    "print(\"\")\n",
    "\n",
    "# Doesn't match\n",
    "print(\"Intrus from list : ['stars','danse','chanson','journal'] \")\n",
    "print(model.wv.doesnt_match([\"stars\",\"danse\",\"chanson\",\"journal\"]))\n",
    "print(\" \")\n",
    "\n",
    "# Most similar\n",
    "print(\"Most similar to lanta : \")\n",
    "print(model.wv.most_similar(\"lanta\"))\n",
    "print(\" \")"
   ]
  },
  {
   "cell_type": "markdown",
   "metadata": {},
   "source": [
    "# Examples of use with FT utils"
   ]
  },
  {
   "cell_type": "code",
   "execution_count": 10,
   "metadata": {
    "ExecuteTime": {
     "end_time": "2018-06-12T13:35:19.334630Z",
     "start_time": "2018-06-12T13:35:19.325828Z"
    }
   },
   "outputs": [
    {
     "name": "stdout",
     "output_type": "stream",
     "text": [
      "Normed word vector for word journal :\n",
      "[ 0.13347492  0.05325973 -0.17106095 -0.5196844  -0.4254806   0.13679364\n",
      " -0.03241184  0.45652103  0.01485538 -0.09341864 -0.36188456 -0.10517016\n",
      "  0.05627305 -0.28541267  0.03355598 -0.1846186 ]\n",
      "\n",
      "Normed word vector for sentence 'Le journal de 13h' :\n",
      "[ 0.13882701  0.07067623 -0.25912056 -0.20951702 -0.17832947  0.19567816\n",
      " -0.06692756  0.48409127  0.10396706 -0.14834515 -0.31153074 -0.09901783\n",
      "  0.07345152 -0.11658965  0.07344507 -0.14372041]\n",
      "\n"
     ]
    }
   ],
   "source": [
    "# Print normed word vector for a word\n",
    "iWord = \"journal\"\n",
    "print(\"Normed word vector for word \"+ iWord + \" :\")\n",
    "print(ft.word_to_vec(iWord, model, iNormed=True))\n",
    "print(\"\")\n",
    "\n",
    "# Use ft utils to get vectors for a word list :\n",
    "iSentence = \"Le journal de 13h\"\n",
    "print(\"Normed word vector for sentence '\"+ iSentence + \"' :\")\n",
    "print(ft.wordlist_to_vec(iSentence.split(\" \"), model, iNormed=True))\n",
    "print(\"\")"
   ]
  }
 ],
 "metadata": {
  "kernelspec": {
   "display_name": "Python [conda env:py36]",
   "language": "python",
   "name": "conda-env-py36-py"
  },
  "language_info": {
   "codemirror_mode": {
    "name": "ipython",
    "version": 3
   },
   "file_extension": ".py",
   "mimetype": "text/x-python",
   "name": "python",
   "nbconvert_exporter": "python",
   "pygments_lexer": "ipython3",
   "version": "3.6.2"
  }
 },
 "nbformat": 4,
 "nbformat_minor": 2
}
