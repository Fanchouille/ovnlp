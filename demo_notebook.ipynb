{
 "cells": [
  {
   "cell_type": "code",
   "execution_count": 1,
   "metadata": {
    "ExecuteTime": {
     "end_time": "2018-06-12T13:57:11.446240Z",
     "start_time": "2018-06-12T13:57:10.275012Z"
    }
   },
   "outputs": [],
   "source": [
    "from ovnlp.ft import weights as ws\n",
    "from ovnlp.ft import ftutils as ft\n",
    "from ovnlp.txtutils import cleantext as ct"
   ]
  },
  {
   "cell_type": "markdown",
   "metadata": {},
   "source": [
    "# Import pretrained weights"
   ]
  },
  {
   "cell_type": "code",
   "execution_count": 2,
   "metadata": {
    "ExecuteTime": {
     "end_time": "2018-06-12T13:57:12.826025Z",
     "start_time": "2018-06-12T13:57:12.818424Z"
    }
   },
   "outputs": [
    {
     "name": "stdout",
     "output_type": "stream",
     "text": [
      "----------------------------------------------------------------------------------------------------\n",
      "Pretrained weights are provided by FB for * cc *.\n",
      "Please use another name if you want to create your own model.\n",
      "----------------------------------------------------------------------------------------------------\n",
      "Weights already downloaded and extracted in /Users/fanch/ovnlp/fasttext/weights/cc/fr.\n"
     ]
    }
   ],
   "source": [
    "## Usage - Get pretrained weights\n",
    "# trainedOn parameter : \"cc\" stands for Common crawl, \"other\" or None is a custom model\n",
    "# iSavePath : where to save weights\n",
    "# if iSavePath=None, then homepath = HOME else homepath = iSavePath\n",
    "# Weights are saved in homepath+/ovnlp/fasttext/weights/ + iTrainedOn={cc or custom} + / + iLang={fr or en} + /\n",
    "ws1 = ws.WeightSource(iTrainedOn = \"cc\", iLang = \"fr\", iSavePath = None)\n",
    "\n",
    "# DL \"fr\" weigths, \"en\" may also be used (big file, long runtime)\n",
    "ws1.save_weights(iResave=False)"
   ]
  },
  {
   "cell_type": "markdown",
   "metadata": {},
   "source": [
    "# Text Utils - Load language specific objects"
   ]
  },
  {
   "cell_type": "code",
   "execution_count": 3,
   "metadata": {
    "ExecuteTime": {
     "end_time": "2018-06-12T13:57:15.259765Z",
     "start_time": "2018-06-12T13:57:15.252032Z"
    }
   },
   "outputs": [],
   "source": [
    "# ovnlp.txtutils contains a cleantext module with a LangTools class to get objects language specific such as : stopwords, tokenizer, stemmer\n",
    "ltfr = ct.LangTools(\"fr\")\n",
    "stopwords = ltfr.get_stop_words(iCustomList = [\"``\",\"a\",\"l'\",\"s'\",\"d'\",\"n'\",\"c'\",\"les\"])\n",
    "stemmer = ltfr.get_stemmer()\n",
    "tokenizer = ltfr.get_tokenizer()\n",
    "\n",
    "# cleantext module also contains several utils functions : tokenize, text_file_to_sentence, etc..."
   ]
  },
  {
   "cell_type": "markdown",
   "metadata": {},
   "source": [
    "# Train a custom model"
   ]
  },
  {
   "cell_type": "code",
   "execution_count": 4,
   "metadata": {
    "ExecuteTime": {
     "end_time": "2018-06-12T13:57:51.427635Z",
     "start_time": "2018-06-12T13:57:17.651693Z"
    }
   },
   "outputs": [],
   "source": [
    "# Download sample text data (may take some time)\n",
    "import requests\n",
    "r = requests.get(\"https://raw.github.com/Fanchouille/ovnlp/master/TF1ReferentielVideo.txt\")\n",
    "texte = r.text"
   ]
  },
  {
   "cell_type": "code",
   "execution_count": 5,
   "metadata": {
    "ExecuteTime": {
     "end_time": "2018-06-12T13:58:04.731146Z",
     "start_time": "2018-06-12T13:57:51.429232Z"
    }
   },
   "outputs": [],
   "source": [
    "# use text utils funcs & stopwords / tokenizer for \"fr\" language\n",
    "# Use custom splitter here : \\n juste to have one unique sentence per video.\n",
    "sentences = ct.string_to_sentences(texte, tokenizer, stopwords, iSplitter=\"\\n\")"
   ]
  },
  {
   "cell_type": "code",
   "execution_count": 6,
   "metadata": {
    "ExecuteTime": {
     "end_time": "2018-06-12T13:58:04.736011Z",
     "start_time": "2018-06-12T13:58:04.732627Z"
    }
   },
   "outputs": [
    {
     "name": "stdout",
     "output_type": "stream",
     "text": [
      "['image', 'novembre', 'inedite', 'devant', 'tombe', 'soldat', 'inconnu', 'mercredi', 'matin', 'nicolas', 'sarkozy', 'accepte', 'invitation', 'successeur', 'francois', 'hollande', 'message', 'limpide', 'republique', 'unie', 'honorer', 'france', 'ceux', 'tombes', 'chef', 'republicains', 'choisi', 'meler', 'hommage', 'soldats', 'morts', 'france', 'commemoration', 'novembre', 'cette', 'reforme', 'ete', 'respectee', 'parenthese', 'concorde', 'nationale', 'climat', 'electoral', 'pre', 'regional', 'tres', 'tendu']\n"
     ]
    }
   ],
   "source": [
    "#Print random video data\n",
    "print(sentences[10000])"
   ]
  },
  {
   "cell_type": "code",
   "execution_count": 7,
   "metadata": {
    "ExecuteTime": {
     "end_time": "2018-06-12T13:58:29.489234Z",
     "start_time": "2018-06-12T13:58:04.737819Z"
    }
   },
   "outputs": [
    {
     "name": "stdout",
     "output_type": "stream",
     "text": [
      "----------------------------------------------------------------------------------------------------\n",
      "Custom model  : TF1RefVideo\n",
      "----------------------------------------------------------------------------------------------------\n",
      "Custom model trained.\n",
      "Custom model saved in /Users/fanch/ovnlp/fasttext/weights/TF1RefVideo/fr/TF1RefVideo.fr.bin\n"
     ]
    }
   ],
   "source": [
    "# Instantiate WeightSource for custom model\n",
    "ws2 = ws.WeightSource(iTrainedOn = \"TF1RefVideo\", iLang=\"fr\", iSavePath = None)\n",
    "# Train custom model with 16 shaped embeddings\n",
    "model  = ws.train_weights(sentences[0:100000], iter=1, size=16)\n",
    "# Save model - overwrite\n",
    "ws2.save_weights(iTrainedModel=model, iResave=True)"
   ]
  },
  {
   "cell_type": "markdown",
   "metadata": {},
   "source": [
    "# Load existing model"
   ]
  },
  {
   "cell_type": "code",
   "execution_count": 8,
   "metadata": {
    "ExecuteTime": {
     "end_time": "2018-06-12T13:58:29.776638Z",
     "start_time": "2018-06-12T13:58:29.490852Z"
    }
   },
   "outputs": [
    {
     "name": "stdout",
     "output_type": "stream",
     "text": [
      "----------------------------------------------------------------------------------------------------\n",
      "Custom model  : TF1RefVideo\n",
      "----------------------------------------------------------------------------------------------------\n",
      "Loading with FastText.load\n",
      "/Users/fanch/ovnlp/fasttext/weights/TF1RefVideo/fr/TF1RefVideo.fr.bin was loaded.\n"
     ]
    }
   ],
   "source": [
    "ws3 = ws.WeightSource(iTrainedOn = \"TF1RefVideo\", iLang=\"fr\",iSavePath = None)\n",
    "model = ws3.load_model()"
   ]
  },
  {
   "cell_type": "markdown",
   "metadata": {},
   "source": [
    "# Examples of use with gensim API\n",
    "## see gensim doc for more \n",
    "https://radimrehurek.com/gensim/models/keyedvectors.html#gensim.models.keyedvectors.WordEmbeddingsKeyedVectors"
   ]
  },
  {
   "cell_type": "code",
   "execution_count": 9,
   "metadata": {
    "ExecuteTime": {
     "end_time": "2018-06-12T13:58:29.801539Z",
     "start_time": "2018-06-12T13:58:29.778170Z"
    }
   },
   "outputs": [
    {
     "name": "stdout",
     "output_type": "stream",
     "text": [
      "Word vector for word journal :\n",
      "[ 1.3516486   0.09807669 -2.5842519  -5.103155   -3.6058183   1.6219612\n",
      " -0.7717934   4.7728524   0.03416885 -1.9734014  -3.864411   -1.4191785\n",
      "  0.14328577 -3.8316543  -0.21324438 -1.5219024 ]\n",
      "\n",
      "Intrus from list : ['stars','danse','chanson','journal'] \n",
      "journal\n",
      " \n",
      "Most similar to lanta : \n",
      "[('koh', 0.9832476377487183), ('kohl', 0.9823315739631653), ('oh', 0.9823063611984253), ('kohlhepp', 0.9773642420768738), ('atlanta', 0.9737600684165955), ('santa', 0.971882700920105), ('kopa', 0.9705867767333984), ('punta', 0.9553159475326538), ('cambodge', 0.9404640197753906), ('kol', 0.9365381002426147)]\n",
      " \n"
     ]
    }
   ],
   "source": [
    "# Print Raw word vector for a word\n",
    "iWord = \"journal\"\n",
    "print(\"Word vector for word \"+ iWord + \" :\")\n",
    "print(model.wv[iWord])\n",
    "print(\"\")\n",
    "\n",
    "# Doesn't match\n",
    "print(\"Intrus from list : ['stars','danse','chanson','journal'] \")\n",
    "print(model.wv.doesnt_match([\"stars\",\"danse\",\"chanson\",\"journal\"]))\n",
    "print(\" \")\n",
    "\n",
    "# Most similar\n",
    "print(\"Most similar to lanta : \")\n",
    "print(model.wv.most_similar(\"lanta\"))\n",
    "print(\" \")"
   ]
  },
  {
   "cell_type": "markdown",
   "metadata": {},
   "source": [
    "# Examples of use with FT utils"
   ]
  },
  {
   "cell_type": "code",
   "execution_count": 31,
   "metadata": {
    "ExecuteTime": {
     "end_time": "2018-06-12T13:58:29.811631Z",
     "start_time": "2018-06-12T13:58:29.802991Z"
    },
    "scrolled": true
   },
   "outputs": [
    {
     "name": "stdout",
     "output_type": "stream",
     "text": [
      "Normed word vector for word journal :\n",
      "[ 0.12802058  0.00928927 -0.24476586 -0.48334226 -0.3415229   0.15362309\n",
      " -0.07309995  0.45205784  0.00323628 -0.18690953 -0.36601537 -0.13441664\n",
      "  0.01357123 -0.36291283 -0.02019731 -0.14414607]\n",
      "\n",
      "Normed word vector for sentence 'Le journal de 13h' :\n",
      "[ 0.12462409  0.0314547  -0.26247678 -0.25107798 -0.1546637   0.21840599\n",
      " -0.1069895   0.47279009  0.14653847 -0.20214292 -0.26365739 -0.05967335\n",
      "  0.03052349 -0.14768473  0.0676317  -0.10167469]\n",
      "\n"
     ]
    }
   ],
   "source": [
    "# Print normed word vector for a word\n",
    "iWord = \"journal\"\n",
    "print(\"Normed word vector for word \"+ iWord + \" :\")\n",
    "print(ft.word_to_vec(iWord, model, iNormed=True))\n",
    "print(\"\")\n",
    "\n",
    "# Use ft utils to get vectors for a word list :\n",
    "iSentence = \"Le journal de 13h\"\n",
    "print(\"Normed word vector for sentence '\"+ iSentence + \"' :\")\n",
    "print(ft.wordlist_to_vec(iSentence.split(\" \"), model, iNormed=True))\n",
    "print(\"\")"
   ]
  }
 ],
 "metadata": {
  "kernelspec": {
   "display_name": "py36",
   "language": "python",
   "name": "py36"
  },
  "language_info": {
   "codemirror_mode": {
    "name": "ipython",
    "version": 3
   },
   "file_extension": ".py",
   "mimetype": "text/x-python",
   "name": "python",
   "nbconvert_exporter": "python",
   "pygments_lexer": "ipython3",
   "version": "3.6.2"
  }
 },
 "nbformat": 4,
 "nbformat_minor": 2
}
